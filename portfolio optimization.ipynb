{
 "cells": [
  {
   "cell_type": "raw",
   "id": "2e61de03-aa7e-45ec-ba2b-4a63172c1a28",
   "metadata": {},
   "source": [
    "Import Libraries"
   ]
  },
  {
   "cell_type": "code",
   "execution_count": 1,
   "id": "38f4ad05-d311-4079-b712-03bd394014ae",
   "metadata": {
    "scrolled": true
   },
   "outputs": [
    {
     "name": "stdout",
     "output_type": "stream",
     "text": [
      "Defaulting to user installation because normal site-packages is not writeable\n",
      "Requirement already satisfied: yfinance in c:\\users\\sid99\\appdata\\roaming\\python\\python312\\site-packages (0.2.61)\n",
      "Requirement already satisfied: pandas>=1.3.0 in c:\\programdata\\anaconda3\\lib\\site-packages (from yfinance) (2.2.2)\n",
      "Requirement already satisfied: numpy>=1.16.5 in c:\\programdata\\anaconda3\\lib\\site-packages (from yfinance) (1.26.4)\n",
      "Requirement already satisfied: requests>=2.31 in c:\\programdata\\anaconda3\\lib\\site-packages (from yfinance) (2.32.3)\n",
      "Requirement already satisfied: multitasking>=0.0.7 in c:\\users\\sid99\\appdata\\roaming\\python\\python312\\site-packages (from yfinance) (0.0.11)\n",
      "Requirement already satisfied: platformdirs>=2.0.0 in c:\\programdata\\anaconda3\\lib\\site-packages (from yfinance) (3.10.0)\n",
      "Requirement already satisfied: pytz>=2022.5 in c:\\programdata\\anaconda3\\lib\\site-packages (from yfinance) (2024.1)\n",
      "Requirement already satisfied: frozendict>=2.3.4 in c:\\programdata\\anaconda3\\lib\\site-packages (from yfinance) (2.4.2)\n",
      "Requirement already satisfied: peewee>=3.16.2 in c:\\users\\sid99\\appdata\\roaming\\python\\python312\\site-packages (from yfinance) (3.18.1)\n",
      "Requirement already satisfied: beautifulsoup4>=4.11.1 in c:\\programdata\\anaconda3\\lib\\site-packages (from yfinance) (4.12.3)\n",
      "Requirement already satisfied: curl_cffi>=0.7 in c:\\users\\sid99\\appdata\\roaming\\python\\python312\\site-packages (from yfinance) (0.11.1)\n",
      "Requirement already satisfied: protobuf>=3.19.0 in c:\\programdata\\anaconda3\\lib\\site-packages (from yfinance) (4.25.3)\n",
      "Requirement already satisfied: websockets>=13.0 in c:\\users\\sid99\\appdata\\roaming\\python\\python312\\site-packages (from yfinance) (15.0.1)\n",
      "Requirement already satisfied: soupsieve>1.2 in c:\\programdata\\anaconda3\\lib\\site-packages (from beautifulsoup4>=4.11.1->yfinance) (2.5)\n",
      "Requirement already satisfied: cffi>=1.12.0 in c:\\programdata\\anaconda3\\lib\\site-packages (from curl_cffi>=0.7->yfinance) (1.17.1)\n",
      "Requirement already satisfied: certifi>=2024.2.2 in c:\\programdata\\anaconda3\\lib\\site-packages (from curl_cffi>=0.7->yfinance) (2025.4.26)\n",
      "Requirement already satisfied: python-dateutil>=2.8.2 in c:\\programdata\\anaconda3\\lib\\site-packages (from pandas>=1.3.0->yfinance) (2.9.0.post0)\n",
      "Requirement already satisfied: tzdata>=2022.7 in c:\\programdata\\anaconda3\\lib\\site-packages (from pandas>=1.3.0->yfinance) (2023.3)\n",
      "Requirement already satisfied: charset-normalizer<4,>=2 in c:\\programdata\\anaconda3\\lib\\site-packages (from requests>=2.31->yfinance) (3.3.2)\n",
      "Requirement already satisfied: idna<4,>=2.5 in c:\\programdata\\anaconda3\\lib\\site-packages (from requests>=2.31->yfinance) (3.7)\n",
      "Requirement already satisfied: urllib3<3,>=1.21.1 in c:\\programdata\\anaconda3\\lib\\site-packages (from requests>=2.31->yfinance) (2.2.3)\n",
      "Requirement already satisfied: pycparser in c:\\programdata\\anaconda3\\lib\\site-packages (from cffi>=1.12.0->curl_cffi>=0.7->yfinance) (2.21)\n",
      "Requirement already satisfied: six>=1.5 in c:\\programdata\\anaconda3\\lib\\site-packages (from python-dateutil>=2.8.2->pandas>=1.3.0->yfinance) (1.16.0)\n",
      "Note: you may need to restart the kernel to use updated packages.\n"
     ]
    }
   ],
   "source": [
    "pip install yfinance"
   ]
  },
  {
   "cell_type": "code",
   "execution_count": 2,
   "id": "e041020d-43e0-40ea-a3d8-af082fc5fa49",
   "metadata": {},
   "outputs": [],
   "source": [
    "import yfinance as yf"
   ]
  },
  {
   "cell_type": "code",
   "execution_count": 3,
   "id": "7aeba968-108a-47cb-bf10-65140e9f0fb0",
   "metadata": {},
   "outputs": [],
   "source": [
    "import pandas as pd\n",
    "from datetime import datetime, timedelta\n",
    "import numpy as np\n",
    "from scipy.optimize import minimize"
   ]
  },
  {
   "cell_type": "raw",
   "id": "018c89ec-b03b-4d48-93c2-496a6f9d55ad",
   "metadata": {},
   "source": [
    "Tickers"
   ]
  },
  {
   "cell_type": "code",
   "execution_count": 4,
   "id": "cb3e5a4f-267a-4110-874d-dbc847c5035b",
   "metadata": {},
   "outputs": [],
   "source": [
    "tickers = ['AGG', 'VUG', 'GLD', 'VTV', 'QQQ']"
   ]
  },
  {
   "cell_type": "code",
   "execution_count": 5,
   "id": "ad31c11c-88dd-4383-84bb-2528d9676c32",
   "metadata": {},
   "outputs": [],
   "source": [
    "end_date = datetime.today()"
   ]
  },
  {
   "cell_type": "code",
   "execution_count": 6,
   "id": "19c30b84-b840-478d-8c1a-fa08598f1abe",
   "metadata": {},
   "outputs": [
    {
     "name": "stdout",
     "output_type": "stream",
     "text": [
      "2010-05-22 15:37:33.267446\n"
     ]
    }
   ],
   "source": [
    "start_date = end_date - timedelta(days = 15*365)\n",
    "print(start_date)"
   ]
  },
  {
   "cell_type": "raw",
   "id": "72e9848e-8f0a-4675-ba34-250abcde0b96",
   "metadata": {},
   "source": [
    "Adjusted closed prices"
   ]
  },
  {
   "cell_type": "code",
   "execution_count": 7,
   "id": "ba84074e-8ed4-4a7a-9f6d-4fe4e3be46f6",
   "metadata": {},
   "outputs": [],
   "source": [
    "adj_close_df = pd.DataFrame()"
   ]
  },
  {
   "cell_type": "raw",
   "id": "c48f06f5-56e1-4ce2-a043-dd51747ad815",
   "metadata": {},
   "source": [
    "Download close prices"
   ]
  },
  {
   "cell_type": "code",
   "execution_count": 8,
   "id": "328a8e83-c3df-49cc-ab02-d1069b8ede16",
   "metadata": {},
   "outputs": [
    {
     "name": "stderr",
     "output_type": "stream",
     "text": [
      "[*********************100%***********************]  1 of 1 completed\n",
      "[*********************100%***********************]  1 of 1 completed\n",
      "[*********************100%***********************]  1 of 1 completed\n",
      "[*********************100%***********************]  1 of 1 completed\n",
      "[*********************100%***********************]  1 of 1 completed\n"
     ]
    }
   ],
   "source": [
    "for ticker in tickers:\n",
    "    data = yf.download(ticker, start = start_date, end = end_date, auto_adjust=0)\n",
    "    adj_close_df[ticker] = data['Adj Close']\n",
    "    "
   ]
  },
  {
   "cell_type": "code",
   "execution_count": 9,
   "id": "60855776-aa98-4beb-bff1-f473d8efe5f0",
   "metadata": {},
   "outputs": [
    {
     "data": {
      "text/plain": [
       "(3770, 5)"
      ]
     },
     "execution_count": 9,
     "metadata": {},
     "output_type": "execute_result"
    }
   ],
   "source": [
    "adj_close_df.shape"
   ]
  },
  {
   "cell_type": "raw",
   "id": "cd2e3efd-3784-4124-b2cc-ebd153eb03ea",
   "metadata": {},
   "source": [
    "Lognormal Returns"
   ]
  },
  {
   "cell_type": "code",
   "execution_count": 10,
   "id": "de86bcb4-b58d-453a-b0e8-c126b579791e",
   "metadata": {},
   "outputs": [],
   "source": [
    "log_returns = np.log(adj_close_df/adj_close_df.shift(1))"
   ]
  },
  {
   "cell_type": "code",
   "execution_count": 11,
   "id": "8008e0f5-135b-4ccb-a6a9-ddd205a192cf",
   "metadata": {},
   "outputs": [],
   "source": [
    "log_returns.dropna(inplace=True)"
   ]
  },
  {
   "cell_type": "code",
   "execution_count": 12,
   "id": "10fb6a7a-b290-406e-b086-c380c3dad942",
   "metadata": {},
   "outputs": [
    {
     "data": {
      "text/plain": [
       "AGG    0\n",
       "VUG    0\n",
       "GLD    0\n",
       "VTV    0\n",
       "QQQ    0\n",
       "dtype: int64"
      ]
     },
     "execution_count": 12,
     "metadata": {},
     "output_type": "execute_result"
    }
   ],
   "source": [
    "log_returns.isna().sum()"
   ]
  },
  {
   "cell_type": "code",
   "execution_count": 13,
   "id": "b6410e2d-da8d-492b-a46b-1d29f79531c0",
   "metadata": {},
   "outputs": [
    {
     "name": "stdout",
     "output_type": "stream",
     "text": [
      "          AGG       VUG       GLD       VTV       QQQ\n",
      "AGG  0.002308  0.000411  0.002280 -0.000243  0.000316\n",
      "VUG  0.000411  0.039728  0.001787  0.027446  0.040734\n",
      "GLD  0.002280  0.001787  0.024377  0.000941  0.001633\n",
      "VTV -0.000243  0.027446  0.000941  0.027855  0.027327\n",
      "QQQ  0.000316  0.040734  0.001633  0.027327  0.043651\n"
     ]
    }
   ],
   "source": [
    "cov_matrix = log_returns.cov()*252\n",
    "print(cov_matrix)"
   ]
  },
  {
   "cell_type": "raw",
   "id": "f0b20b38-c09a-4d5b-b972-98ff1f0ae18c",
   "metadata": {},
   "source": [
    "Define Portfolio Performance Metrics"
   ]
  },
  {
   "cell_type": "raw",
   "id": "e4637d3a-2518-4a0a-8cd4-9f9e05a0e881",
   "metadata": {},
   "source": [
    "Standard Deviation "
   ]
  },
  {
   "cell_type": "code",
   "execution_count": 14,
   "id": "77c137d5-021a-44da-a51e-29313527b535",
   "metadata": {},
   "outputs": [],
   "source": [
    "def standard_deviation(weights, cov_matrix):\n",
    "    variance = weights.T @ cov_matrix @ weights\n",
    "    return np.sqrt(variance)\n"
   ]
  },
  {
   "cell_type": "raw",
   "id": "25c7e25d-8058-4ba3-8459-97f042209878",
   "metadata": {},
   "source": [
    "Expected Returnr"
   ]
  },
  {
   "cell_type": "code",
   "execution_count": 15,
   "id": "5e74bb16-b32d-4146-b0b7-e93fb3d88bd1",
   "metadata": {},
   "outputs": [],
   "source": [
    "def expected_return(weights, log_returns):\n",
    "    return np.sum(log_returns.mean()*weights)*252"
   ]
  },
  {
   "cell_type": "raw",
   "id": "07a0b354-b7df-4511-b13a-5905b42d2982",
   "metadata": {},
   "source": [
    "Sharpe Ratio"
   ]
  },
  {
   "cell_type": "code",
   "execution_count": 16,
   "id": "8ecf24e7-1db8-4be7-a1a8-1c2125c6463a",
   "metadata": {},
   "outputs": [],
   "source": [
    "def sharpe_ratio(weights, log_returns, cov_matrix, risk_free_rate):\n",
    "    return(expected_return(weights, log_returns) - risk_free_rate)/standard_deviation(weights, cov_matrix)"
   ]
  },
  {
   "cell_type": "raw",
   "id": "b377fe8e-0023-47f5-8373-1a1973911bb7",
   "metadata": {},
   "source": [
    "Risk Free Rate"
   ]
  },
  {
   "cell_type": "code",
   "execution_count": 17,
   "id": "1e5fdaae-c2d6-4db5-9dd8-bd9bcd2ea58e",
   "metadata": {},
   "outputs": [],
   "source": [
    "risk_free_rate = 0.02"
   ]
  },
  {
   "cell_type": "raw",
   "id": "fbcb9484-5dc8-4bc8-a373-47d4408aceb6",
   "metadata": {},
   "source": [
    "Minimize Neg Sharpe Ratio"
   ]
  },
  {
   "cell_type": "code",
   "execution_count": 18,
   "id": "71bba1c0-8051-4098-9c2f-ea93c30224bf",
   "metadata": {},
   "outputs": [],
   "source": [
    "def neg_sharpe_ratio(weights, log_returns, cov_matrix, risk_free_rate):\n",
    "    return -sharpe_ratio(weights, log_returns, cov_matrix, risk_free_rate)"
   ]
  },
  {
   "cell_type": "raw",
   "id": "73b08f8a-5f84-46dc-ba4f-ce6093d11a20",
   "metadata": {},
   "source": [
    "bConstrants and bounds"
   ]
  },
  {
   "cell_type": "code",
   "execution_count": 25,
   "id": "3b8e2ff8-4dbb-4e8b-8500-5f17e9d3d509",
   "metadata": {},
   "outputs": [],
   "source": [
    "constraints  = {'type':'eq', 'fun': lambda weights: np.sum(weights)-1}\n",
    "bounds = [(0,0.4) for _ in range(len(tickers))]"
   ]
  },
  {
   "cell_type": "raw",
   "id": "673b9f6c-e5b9-49f4-b9d5-5d2f538a5b2e",
   "metadata": {},
   "source": [
    "set initial weights"
   ]
  },
  {
   "cell_type": "code",
   "execution_count": 26,
   "id": "acc4d5f9-0395-4af0-ac2e-6972748751bf",
   "metadata": {},
   "outputs": [
    {
     "name": "stdout",
     "output_type": "stream",
     "text": [
      "[0.2 0.2 0.2 0.2 0.2]\n"
     ]
    }
   ],
   "source": [
    "initial_weights = np.array([1/len(tickers)]*len(tickers))\n",
    "print(initial_weights)"
   ]
  },
  {
   "cell_type": "raw",
   "id": "cd506a96-f20b-4f95-bea8-75a0464b6691",
   "metadata": {},
   "source": [
    "Optimize the weights to maximize Sharpe Ratio"
   ]
  },
  {
   "cell_type": "code",
   "execution_count": 27,
   "id": "347e6d00-5366-4e55-8d32-158cd0b5734e",
   "metadata": {},
   "outputs": [],
   "source": [
    "optimized_results = minimize(neg_sharpe_ratio, initial_weights, args = (log_returns, cov_matrix, risk_free_rate), method= \"SLSQP\", constraints=constraints, bounds=bounds)"
   ]
  },
  {
   "cell_type": "code",
   "execution_count": 28,
   "id": "6cec35dc-b3b3-4ca5-b5be-f9e38e135968",
   "metadata": {},
   "outputs": [],
   "source": [
    "optimal_weights = optimized_results.x"
   ]
  },
  {
   "cell_type": "code",
   "execution_count": 29,
   "id": "a4761fa9-db16-4033-a403-7c7501451075",
   "metadata": {},
   "outputs": [
    {
     "name": "stdout",
     "output_type": "stream",
     "text": [
      "Optimal Weights:\n",
      "AGG: 0.2145\n",
      "VUG: 0.0000\n",
      "GLD: 0.2443\n",
      "VTV: 0.1412\n",
      "QQQ: 0.4000\n",
      "Expected Annual Return: 0.1051\n",
      "Expected Volatility: 0.1134\n",
      "Sharpe Ratio: 0.7508\n"
     ]
    }
   ],
   "source": [
    "print(\"Optimal Weights:\")\n",
    "for ticker, weight in zip(tickers, optimal_weights):\n",
    "    print(f\"{ticker}: {weight:.4f}\")\n",
    "\n",
    "optimal_portfolio_return = expected_return(optimal_weights, log_returns)\n",
    "optimal_portfolio_volatility = standard_deviation(optimal_weights, cov_matrix)\n",
    "optimal_sharpe_ratio = sharpe_ratio(optimal_weights, log_returns, cov_matrix, risk_free_rate)\n",
    "\n",
    "print(f\"Expected Annual Return: {optimal_portfolio_return:.4f}\")\n",
    "print(f\"Expected Volatility: {optimal_portfolio_volatility:.4f}\")\n",
    "print(f\"Sharpe Ratio: {optimal_sharpe_ratio:.4f}\")"
   ]
  },
  {
   "cell_type": "code",
   "execution_count": 30,
   "id": "8507173f-a809-4aad-a506-a55e60faa062",
   "metadata": {},
   "outputs": [
    {
     "data": {
      "image/png": "[encoded data removed]",
      "text/plain": [
       "<Figure size 1000x600 with 1 Axes>"
      ]
     },
     "metadata": {},
     "output_type": "display_data"
    }
   ],
   "source": [
    "import matplotlib.pyplot as plt\n",
    "\n",
    "plt.figure(figsize=(10, 6))\n",
    "plt.bar(tickers, optimal_weights)\n",
    "\n",
    "plt.xlabel('Assets')\n",
    "plt.ylabel('Optimal Weights')\n",
    "plt.title('Optimal Portfolio Weights')\n",
    "\n",
    "plt.show()"
   ]
  },
  {
   "cell_type": "code",
   "execution_count": null,
   "id": "e7b6f06f-f439-4fd6-b0e1-cdb194d9b4d1",
   "metadata": {},
   "outputs": [],
   "source": []
  }
 ],
 "metadata": {
  "kernelspec": {
   "display_name": "Python [conda env:base] *",
   "language": "python",
   "name": "conda-base-py"
  },
  "language_info": {
   "codemirror_mode": {
    "name": "ipython",
    "version": 3
   },
   "file_extension": ".py",
   "mimetype": "text/x-python",
   "name": "python",
   "nbconvert_exporter": "python",
   "pygments_lexer": "ipython3",
   "version": "3.12.7"
  }
 },
 "nbformat": 4,
 "nbformat_minor": 5
}
